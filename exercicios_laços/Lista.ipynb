{
 "cells": [
  {
   "cell_type": "markdown",
   "id": "b4fa49e6-373b-4568-9036-aee4af6a2584",
   "metadata": {},
   "source": [
    "'Lista:\n",
    "1.\tEscreva um o programa para exibir os números de 1 a 100. ✔️\n",
    "2.\tModifique o programa para exibir os números de 50 a 100. ✔️\n",
    "3.\tFaça um programa para escrever a contagem regressiva do lançamento de um foguete. O programa deve imprimir 10, 9, 8, …, 1, 0 e Fogo! na tela. ✔️\n",
    "4.\tModifique o programa anterior para imprimir de 1 até o número digitado pelo usuário, mas, dessa vez, apenas os números ímpares. ✔️\n",
    "5.\tEscreva um programa que leia dois números. Imprima o resultado da multiplicação do primeiro pelo segundo. Utilize apenas os operadores de soma e subtração para calcular o resultado. Lembre-se de que podemos entender a multiplicação de dois números como somas sucessivas de um deles. \n",
    "Assim, 5 × 4 = 5 + 5 + 5 + 5 = 4 + 4 + 4 + 4 + 4.\n",
    "6.\tEscreva um programa que solicite números inteiros para o usuário. O programa deve ler os números até que o usuário digite 0 (zero). No final da execução, exiba a quantidade de números digitados, assim como a soma e a média aritmética.\n",
    "7.\tEscreva um programa que pergunte o depósito inicial e a taxa de juros de uma poupança. Exiba os valores mês a mês para os 24 primeiros meses. Escreva o total ganho com juros no período.\n",
    "8.\tAltere o programa anterior de forma a perguntar também o valor depositado mensalmente. Esse valor será depositado no início de cada mês, e você deve considerá-lo para o cálculo de juros do mês seguinte.\n",
    "9.\tEscreva um programa que pergunte o valor inicial de uma dívida e o juro mensal. Pergunte também o valor mensal que será pago. Imprima o número de meses para que a dívida seja paga, o total pago e o total de juros pago.\n",
    "10.\tEscreva um programa para controlar uma pequena máquina registradora. Você deve solicitar ao usuário que digite o código do produto e a quantidade comprada. Utilize a tabela de códigos a seguir para obter o preço de cada produto:\n",
    "\n",
    "Código\t\tPreço\n",
    "1 \t\t0,50\n",
    "2 \t\t1,00\n",
    "3 \t\t4,00\n",
    "5 \t\t7,00\n",
    "9 \t\t8,00\n",
    "Seu programa deve exibir o total das compras depois que o usuário digitar 0. Qualquer outro código deve gerar a mensagem de erro “Código inválido”.\n",
    "\n",
    "11.\tEscreva um programa que leia um número e verifique se é ou não um número primo. Para fazer essa verificação, calcule o resto da divisão do número por 2 e depois por todos os números ímpares até o número lido. Se o resto de uma dessas divisões for igual a zero, o número não é primo. Observe que 0 e 1 não são primos e que 2 é o único número primo que é par.\n",
    "12.\tModifique o programa anterior de forma a ler um número n. Imprima os n primeiros números primos.\n"
   ]
  },
  {
   "cell_type": "code",
   "execution_count": null,
   "id": "60f22430-e3a5-41df-99e4-dd898d370d2e",
   "metadata": {},
   "outputs": [],
   "source": [
    "# 1. Escreva um o programa para exibir os números de 1 a 100.\n",
    "num = 50\n",
    "i = 1\n",
    "while i <= num:\n",
    "    print (f\"{i}\", end=\" \")\n",
    "    i += 1\n",
    "print (\"\\nFim do laço\")\n",
    "\n",
    "\"\"\"\n",
    "for i in range(1, num + 1, 1):\n",
    "    print (f\"{i}\", end=\" \")\n",
    "print (\"\\nFim do laço\\n\")\n",
    "\"\"\""
   ]
  },
  {
   "cell_type": "code",
   "execution_count": null,
   "id": "529281ae-7862-4dc6-992d-39436cefab5d",
   "metadata": {},
   "outputs": [],
   "source": [
    "# 2. Modifique o programa para exibir os números de 50 a 100.\n",
    "num = 100\n",
    "i = 50\n",
    "while i <= num:\n",
    "    print (f\"{i}\", end=\" \")\n",
    "    i += 1\n",
    "print (\"\\nFim do laço\")\n",
    "\n",
    "\"\"\"\n",
    "for i in range(50, num + 1, 1):\n",
    "    print (f\"{i}\", end=\" \")\n",
    "print (\"\\nFim do laço\\n\")\n",
    "\"\"\""
   ]
  },
  {
   "cell_type": "code",
   "execution_count": null,
   "id": "2aed6db8-f2c0-4567-8c8d-73cb82a53482",
   "metadata": {},
   "outputs": [],
   "source": [
    "# 3. Faça um programa para escrever a contagem regressiva do lançamento de um foguete. O programa deve imprimir 10, 9, 8, …, 1, 0 e Fogo! na tela.\n",
    "i = 10\n",
    "while i >=0:\n",
    "    print (f\"{i},\", end=\" \")\n",
    "    i -= 1\n",
    "print (\"Fogooooo!!!!\")"
   ]
  },
  {
   "cell_type": "code",
   "execution_count": null,
   "id": "277fa65c-6012-4b1a-b4a1-d6f2c2cfc4e1",
   "metadata": {},
   "outputs": [],
   "source": [
    "# 4. Modifique o programa anterior para imprimir de 1 até o número digitado pelo usuário, mas, dessa vez, apenas os números ímpares.\n",
    "num = int(input(\"\\nInsira com o valor: \"))\n",
    "i = 0\n",
    "if num%2 == 1:\n",
    "    i = 1\n",
    "while i <= num:\n",
    "    print (f\"{i}\", end=\" \")\n",
    "    i += 2\n",
    "print(\"\\nFim do laço\\n\")"
   ]
  },
  {
   "cell_type": "code",
   "execution_count": 20,
   "id": "761f46a8-4990-42d6-bff1-6a85ff10ddd0",
   "metadata": {},
   "outputs": [
    {
     "name": "stdout",
     "output_type": "stream",
     "text": [
      "Entre com o valor a ser somado. Digite 0 para sair:  2\n",
      "Entre com o valor a ser somado. Digite 0 para sair:  3\n",
      "Entre com o valor a ser somado. Digite 0 para sair:  2\n",
      "Entre com o valor a ser somado. Digite 0 para sair:  0\n"
     ]
    },
    {
     "name": "stdout",
     "output_type": "stream",
     "text": [
      "A soma total foi: 7.0.\n"
     ]
    }
   ],
   "source": [
    "# 5. \n",
    "i = float(input (\"Entre com o valor a ser somado. Digite 0 para sair: \"))\n",
    "soma = i\n",
    "while i != 0:\n",
    "    i = float(input (\"Entre com o valor a ser somado. Digite 0 para sair: \"))\n",
    "    soma += i\n",
    "print (f\"A soma total foi: {soma}.\")\n"
   ]
  },
  {
   "cell_type": "code",
   "execution_count": 33,
   "id": "eb95845b-b555-4460-b866-92e0ce243863",
   "metadata": {},
   "outputs": [
    {
     "name": "stdout",
     "output_type": "stream",
     "text": [
      "Entre com o primeiro valor:  5\n",
      "Entre com o segundo valor:  4\n"
     ]
    },
    {
     "name": "stdout",
     "output_type": "stream",
     "text": [
      "5 x 4 = 5 + 5 + 5 + 5  = 4 + 4 + 4 + 4 + 4 \n",
      "Fim do laço.\n"
     ]
    }
   ],
   "source": [
    "i = int (input(\"Entre com o primeiro valor: \"))\n",
    "j = int (input(\"Entre com o segundo valor: \"))\n",
    "print (f\"{i} x {j} = \", end=\"\")\n",
    "\n",
    "n = 1\n",
    "while n <= j:\n",
    "    print (f\"{i}\", end=\" \")\n",
    "    if n < j:\n",
    "        print (\"+ \", end =\"\")\n",
    "    n +=1\n",
    "n = 1\n",
    "print (\" = \", end=\"\")\n",
    "while n <= i:\n",
    "    print (f\"{j}\", end=\" \")\n",
    "    if n < i:\n",
    "        print (f\"+ \", end =\"\")\n",
    "    n +=1\n",
    "print (\"\\nFim do laço.\")"
   ]
  },
  {
   "cell_type": "code",
   "execution_count": 40,
   "id": "33da29c5-1738-4860-8521-1e9368548165",
   "metadata": {},
   "outputs": [
    {
     "name": "stdout",
     "output_type": "stream",
     "text": [
      "Exercício 5 negócio de doido\n"
     ]
    },
    {
     "name": "stdout",
     "output_type": "stream",
     "text": [
      "Digite o multiplicando:  4\n",
      "Digite o multiplicador:  5\n"
     ]
    },
    {
     "name": "stdout",
     "output_type": "stream",
     "text": [
      "A representação da multiplicação de 4 por 5 como soma é:\n",
      "num_1 + num_1 + num_1 + num_1 + num_1\n",
      "Tendo os valores do 4 somando ele mesmo 5x teremos o resultado de 20\n",
      " + 4\n",
      "Tendo os valores do 4 somando ele mesmo 5x teremos o resultado de 20\n"
     ]
    }
   ],
   "source": [
    "print(\"Exercício 5 negócio de doido\")\n",
    "num_1 = int(input(\"Digite o multiplicando: \"))\n",
    "num_2 = int(input(\"Digite o multiplicador: \"))\n",
    "i = 0\n",
    "print(f\"A representação da multiplicação de {num_1} por {num_2} como soma é:\")\n",
    "while i < num_2:\n",
    "    if i > 0:\n",
    "        print(f\"\",end=\" + \")\n",
    "    print(f\"num_1\", end=\"\")\n",
    "    i += 1\n",
    "\n",
    "print()\n",
    "calculo = num_1 * num_2\n",
    "print(f\"Tendo os valores do {num_1} somando ele mesmo {num_2}x teremos o resultado de {calculo}\")\n",
    "\n",
    "print(end=\" + \")\n",
    "print(num_1, end=\"\")\n",
    "i += 1\n",
    " \n",
    "print()\n",
    " \n",
    "calculo = num_1 * num_2\n",
    " \n",
    "print(f\"Tendo os valores do {num_1} somando ele mesmo {num_2}x teremos o resultado de {calculo}\")\n"
   ]
  },
  {
   "cell_type": "code",
   "execution_count": 42,
   "id": "31af7da3-c3f0-424a-ac76-5e1b87e13584",
   "metadata": {},
   "outputs": [
    {
     "name": "stdout",
     "output_type": "stream",
     "text": [
      "Digite o multiplicando:  5\n",
      "Digite o multiplicador:  4\n"
     ]
    },
    {
     "name": "stdout",
     "output_type": "stream",
     "text": [
      "5 × 4 = 5 + 5 + 5 + 5 = 20\n",
      "4 × 5 = 4 + 4 + 4 + 4 + 4 = 20\n"
     ]
    }
   ],
   "source": [
    "\n",
    "num1 = int(input(\"Digite o multiplicando: \"))\n",
    "num2 = int(input(\"Digite o multiplicador: \"))\n",
    " \n",
    "resultado = 0\n",
    " \n",
    "for i in range(num2):\n",
    "  resultado += num1\n",
    " \n",
    "print(f\"{num1} × {num2} = \", end=\"\")\n",
    "for i in range(num2):\n",
    "  if i == 0:\n",
    "    print(f\"{num1}\", end=\"\")\n",
    "  else:\n",
    "    print(f\" + {num1}\", end=\"\")\n",
    "print(f\" = {resultado}\")\n",
    " \n",
    "resultado = 0\n",
    " \n",
    "for i in range(num1):\n",
    "    resultado += num2\n",
    "   \n",
    "print(f\"{num2} × {num1} = \", end=\"\")\n",
    "for i in range(num1):\n",
    "    if i == 0:\n",
    "        print(f\"{num2}\", end=\"\")\n",
    "    else:\n",
    "        print(f\" + {num2}\", end=\"\")\n",
    "print(f\" = {resultado}\")"
   ]
  },
  {
   "cell_type": "markdown",
   "id": "c6c265ac-6cf3-44a1-861a-6348f9e2335a",
   "metadata": {},
   "source": [
    "\n",
    "\n",
    "14.\tA sequência de Fibonacci é uma sequência infinita de números em que cada número subsequente é a soma dos dois números anteriores. A sequência começa com 0 e 1, e a partir daí, cada número é a soma dos dois números anteriores.\n",
    "Exemplo: N = 6\n",
    "0, 1, 1, 2, 3, 5.\n",
    "Exemplo: N = 10\n",
    "0, 1, 1, 2, 3, 5, 8, 13, 21, 34.\n",
    "Escreva um programa que exiba a sequência de Fibonacci com N valores exibidos, onde N foi inserido pelo usuário.\n"
   ]
  },
  {
   "cell_type": "code",
   "execution_count": 44,
   "id": "702385da-ccdf-412c-b08d-38121d3844d9",
   "metadata": {},
   "outputs": [
    {
     "name": "stdout",
     "output_type": "stream",
     "text": [
      "Entre com o valor de n para a sequência de fibonacci:  10\n"
     ]
    },
    {
     "name": "stdout",
     "output_type": "stream",
     "text": [
      "0 , 1 , 1, 2, 3, 5, 8, 13, 21, 34, fim do laço.\n"
     ]
    }
   ],
   "source": [
    "anterior = 0\n",
    "proximo = 1\n",
    "n = int(input(\"Entre com o valor de n para a sequência de fibonacci: \"))\n",
    "i = 2\n",
    "print (f\"{anterior} , {proximo} , \", end=\"\")\n",
    "while i<n:\n",
    "    temp = anterior\n",
    "    anterior = proximo\n",
    "    proximo += temp\n",
    "    print (f\"{proximo}, \", end=\"\")\n",
    "    i+=1\n",
    "print (\"fim do laço.\")"
   ]
  },
  {
   "cell_type": "code",
   "execution_count": null,
   "id": "aa7aaed4-57c4-4611-a30f-d850a8680c05",
   "metadata": {},
   "outputs": [],
   "source": []
  }
 ],
 "metadata": {
  "kernelspec": {
   "display_name": "Python 3 (ipykernel)",
   "language": "python",
   "name": "python3"
  },
  "language_info": {
   "codemirror_mode": {
    "name": "ipython",
    "version": 3
   },
   "file_extension": ".py",
   "mimetype": "text/x-python",
   "name": "python",
   "nbconvert_exporter": "python",
   "pygments_lexer": "ipython3",
   "version": "3.12.2"
  }
 },
 "nbformat": 4,
 "nbformat_minor": 5
}
